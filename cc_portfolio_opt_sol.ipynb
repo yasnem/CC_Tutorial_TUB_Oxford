{
 "cells": [
  {
   "cell_type": "markdown",
   "id": "4bba7674",
   "metadata": {},
   "source": [
    "# Check if all required packages work"
   ]
  },
  {
   "cell_type": "code",
   "execution_count": 1,
   "id": "5dd74db8",
   "metadata": {},
   "outputs": [],
   "source": [
    "import numpy as np\n",
    "import cvxpy as cp\n",
    "from cc_utils import compute_gram_matrix, cholesky_decomposition, mmd_eps"
   ]
  },
  {
   "cell_type": "markdown",
   "id": "3d1795e9",
   "metadata": {},
   "source": [
    "# Convex approximation of Chance Constraints using the CVaR"
   ]
  },
  {
   "cell_type": "code",
   "execution_count": 2,
   "id": "2475a613",
   "metadata": {},
   "outputs": [],
   "source": [
    "# Set problem parameters\n",
    "dim_x = 3\n",
    "\n",
    "# Define problem related constants and variables\n",
    "# risk level\n",
    "alpha = 0.05\n",
    "\n",
    "# Cost for our portfolio\n",
    "c = np.arange(1, 1 + dim_x * 0.5, 0.5)\n",
    "def objective(x):\n",
    "    return c@x"
   ]
  },
  {
   "cell_type": "code",
   "execution_count": 3,
   "id": "7539313a",
   "metadata": {},
   "outputs": [],
   "source": [
    "# Define uncertain constraint function for our problem\n",
    "def cvx_f_constraint(x, X):\n",
    "    \"\"\"\n",
    "    Constraint function\n",
    "\n",
    "    x: cp.Variable -- decision variable (dim,)\n",
    "    X: ndarray -- Samples (n_samples, dim)\n",
    "    \"\"\"\n",
    "    f = cp.square(X @ x) - 1\n",
    "    return f"
   ]
  },
  {
   "cell_type": "code",
   "execution_count": 4,
   "id": "b76e8330",
   "metadata": {},
   "outputs": [],
   "source": [
    "# Define additional deterministic constraints\n",
    "def x_constraints(x):\n",
    "    return [\n",
    "        x >= 0,\n",
    "        cp.sum(x) <= 1\n",
    "    ]"
   ]
  },
  {
   "cell_type": "code",
   "execution_count": 5,
   "id": "c9d12337",
   "metadata": {},
   "outputs": [],
   "source": [
    "# Create samples of the uncertainty from a multivariate gaussian\n",
    "mean = np.zeros(dim_x)\n",
    "cov = np.zeros((dim_x, dim_x))\n",
    "np.fill_diagonal(cov, np.arange(0.5, 0.5*(dim_x + 1), 0.5))\n",
    "\n",
    "n_samples = 500\n",
    "\n",
    "samples = np.random.multivariate_normal(mean, cov, size=n_samples)\n",
    "test_samples = np.random.multivariate_normal(mean, cov, size=100000)"
   ]
  },
  {
   "cell_type": "markdown",
   "id": "f8ee9076",
   "metadata": {},
   "source": [
    "# Scenario Optimization"
   ]
  },
  {
   "cell_type": "code",
   "execution_count": 6,
   "id": "ba47b58a",
   "metadata": {},
   "outputs": [],
   "source": [
    "x = cp.Variable(shape=(dim_x, 1), name='cash')"
   ]
  },
  {
   "cell_type": "code",
   "execution_count": 7,
   "id": "a881d8a2",
   "metadata": {},
   "outputs": [],
   "source": [
    "# Evaluate constraints for our problem\n",
    "constraints = x_constraints(x)  # returns a list\n",
    "f_const = cvx_f_constraint(x, samples)\n",
    "constraints.append(f_const <= 0)"
   ]
  },
  {
   "cell_type": "code",
   "execution_count": 8,
   "id": "eb5979eb",
   "metadata": {},
   "outputs": [],
   "source": [
    "# Define cvx problem object\n",
    "prob = cp.Problem(objective=cp.Maximize(objective(x)),\n",
    "                  constraints=constraints)\n",
    "\n",
    "try:\n",
    "    prob.solve()\n",
    "except:\n",
    "    raise ValueError(\"Optimization failed.\")"
   ]
  },
  {
   "cell_type": "code",
   "execution_count": 9,
   "id": "892c1bef",
   "metadata": {},
   "outputs": [],
   "source": [
    "obj_scen_sol = prob.value\n",
    "x_scen_sol = x.value"
   ]
  },
  {
   "cell_type": "markdown",
   "id": "79cc81a8",
   "metadata": {},
   "source": [
    "# CVaR approximation of CC program"
   ]
  },
  {
   "cell_type": "code",
   "execution_count": 10,
   "id": "b6b40cfc",
   "metadata": {},
   "outputs": [],
   "source": [
    "# decision variables\n",
    "x = cp.Variable(shape=(dim_x, 1), name='cash')\n",
    "t = cp.Variable(1, name='CVaR')"
   ]
  },
  {
   "cell_type": "code",
   "execution_count": 11,
   "id": "dd3b857a",
   "metadata": {},
   "outputs": [],
   "source": [
    "# Setup constraint for our defined decision variable\n",
    "constraints = x_constraints(x)\n",
    "f_const = cvx_f_constraint(x, samples)\n",
    "\n",
    "# Add the CVaR constraint accoring to its dual defintion\n",
    "# Use cp.sum and cp.maximum to compute the CVaR\n",
    "# We do not need to evalute inf_t here but only need to find one variabel t such that constraint is satisfied\n",
    "constraints.append(cp.sum(cp.maximum(f_const + t, 0))/n_samples <= t*alpha)\n",
    "\n",
    "\n",
    "# Set up cvx object and solve it\n",
    "prob = cp.Problem(objective=cp.Maximize(objective(x)),\n",
    "                  constraints=constraints)\n",
    "try:\n",
    "    prob.solve()\n",
    "except:\n",
    "    raise ValueError(\"Optimization failed.\")"
   ]
  },
  {
   "cell_type": "code",
   "execution_count": 12,
   "id": "89a66fd4",
   "metadata": {},
   "outputs": [],
   "source": [
    "# Retrieve solution\n",
    "obj_cvar_sol = prob.value\n",
    "x_cvar_sol = x.value"
   ]
  },
  {
   "cell_type": "markdown",
   "id": "c3e3a268",
   "metadata": {},
   "source": [
    "# Distributionally Robust Chance Constraint"
   ]
  },
  {
   "cell_type": "code",
   "execution_count": 13,
   "id": "c6f8960b",
   "metadata": {},
   "outputs": [],
   "source": [
    "# compute empirical CVaR using a Monte-Carlo approximation of expectation\n",
    "t = cp.Variable(1, 'CVaR')\n",
    "f_cvar = cvx_f_constraint(x, test_samples).value\n",
    "# Define CVaR as objective now\n",
    "cvar_obj = cp.sum(cp.maximum(f_cvar + t, 0)) / test_samples.shape[0] - t * alpha\n",
    "prob = cp.Problem(objective=cp.Minimize(cvar_obj))\n",
    "try:\n",
    "    prob.solve()\n",
    "    emp_cvar = prob.value\n",
    "except:\n",
    "    raise ValueError(\"Could not compute CVaR.\")"
   ]
  },
  {
   "cell_type": "code",
   "execution_count": 14,
   "id": "3adc005e",
   "metadata": {},
   "outputs": [],
   "source": [
    "# Set up DR-CVaR problem using MMD ambiguity sets\n",
    "kernel_param = {'kernel': 'rbf'}\n",
    "\n",
    "# Compute the ambiguity set radius\n",
    "epsilon = mmd_eps(n_sample=n_samples,\n",
    "                  alpha=alpha)\n",
    "\n",
    "# Precompute kernel matrix\n",
    "kernel_matrix = compute_gram_matrix(samples, param=kernel_param)\n",
    "kernel_cholesky = cholesky_decomposition(kernel_matrix)\n",
    "\n",
    "# Define variables\n",
    "x = cp.Variable(shape=(dim_x, 1), name='cash')\n",
    "t = cp.Variable(1, name='CVaR')\n",
    "w = cp.Variable(shape=(n_samples, 1), name='weights')\n",
    "g0 = cp.Variable(1, name='g0')\n",
    "\n",
    "# Define constraints\n",
    "g_rkhs = kernel_matrix @ w\n",
    "Eg_rkhs = 1/n_samples * cp.sum(g_rkhs[:n_samples])\n",
    "g_norm = cp.norm(kernel_cholesky @ w)\n",
    "f_const = cvx_f_constraint(x, samples)\n",
    "\n",
    "constraints = x_constraints(x)\n",
    "constraints.extend([\n",
    "    g0 + Eg_rkhs + epsilon * g_norm <= t * alpha,\n",
    "    cp.pos(f_const + t) <= g0 + g_rkhs\n",
    "])"
   ]
  },
  {
   "cell_type": "code",
   "execution_count": 15,
   "id": "7dc142c1",
   "metadata": {},
   "outputs": [],
   "source": [
    "# Set up problem object and solve it\n",
    "prob = cp.Problem(objective=cp.Maximize(objective(x)),\n",
    "                  constraints=constraints)\n",
    "try:\n",
    "    prob.solve()\n",
    "except:\n",
    "    raise ValueError(\"Optimization failed.\")\n",
    "obj_sol = prob.value\n",
    "x_sol = x.value"
   ]
  },
  {
   "cell_type": "code",
   "execution_count": 16,
   "id": "0ab7fa31",
   "metadata": {},
   "outputs": [
    {
     "name": "stdout",
     "output_type": "stream",
     "text": [
      "-0.019123601356174344\n"
     ]
    }
   ],
   "source": [
    "# compute empirical CVaR using the test samples\n",
    "t = cp.Variable(1, 'CVaR')\n",
    "f_cvar = cvx_f_constraint(x, test_samples).value\n",
    "cvar_obj = cp.sum(cp.maximum(f_cvar + t, 0)) / test_samples.shape[0] - t * alpha\n",
    "prob = cp.Problem(objective=cp.Minimize(cvar_obj))\n",
    "try:\n",
    "    prob.solve()\n",
    "    emp_drcvar = prob.value\n",
    "except:\n",
    "    raise ValueError(\"Could not compute CVaR.\")\n",
    "\n",
    "print(emp_drcvar)"
   ]
  },
  {
   "cell_type": "code",
   "execution_count": 17,
   "id": "65c3293d",
   "metadata": {},
   "outputs": [
    {
     "name": "stdout",
     "output_type": "stream",
     "text": [
      "Scenario solution: \t0.7299754362872397 \t x -- [[0.18422131 0.29218825 0.05373588]]\n",
      "CVaR approximation: \t1.1208077520550666 \t x -- [[0.42092581 0.23287026 0.17528828]] \t CVaR -- 0.00294\n",
      "DR-CVaR approximation: \t0.8494535530150683 \t x -- [[0.26640989 0.23111511 0.1181855 ]] \t CVaR -- -0.01912\n"
     ]
    }
   ],
   "source": [
    "print(\"Scenario solution: \\t{0} \\t x -- {1}\".format(obj_scen_sol, x_scen_sol.T))\n",
    "print(\"CVaR approximation: \\t{0} \\t x -- {1} \\t CVaR -- {2}\".format(obj_cvar_sol, x_cvar_sol.T, np.round(emp_cvar, 5)))\n",
    "print(\"DR-CVaR approximation: \\t{0} \\t x -- {1} \\t CVaR -- {2}\".format(obj_sol, x_sol.T, np.round(emp_drcvar, 5)))"
   ]
  }
 ],
 "metadata": {
  "kernelspec": {
   "display_name": "mpc_py",
   "language": "python",
   "name": "mpc_py"
  },
  "language_info": {
   "codemirror_mode": {
    "name": "ipython",
    "version": 3
   },
   "file_extension": ".py",
   "mimetype": "text/x-python",
   "name": "python",
   "nbconvert_exporter": "python",
   "pygments_lexer": "ipython3",
   "version": "3.9.13"
  }
 },
 "nbformat": 4,
 "nbformat_minor": 5
}
